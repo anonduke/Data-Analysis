{
 "cells": [
  {
   "cell_type": "markdown",
   "id": "a96421ab",
   "metadata": {},
   "source": [
    "# Problem analysis Workshop 1 #"
   ]
  },
  {
   "cell_type": "markdown",
   "id": "ce9d9569",
   "metadata": {},
   "source": [
    "### Team Memebers ###\n",
    "\n",
    "Eris Leksi - 9067882\n",
    "\n",
    "Kapil Bhardwaj - 9064347 \n",
    "\n",
    "Fasalu Rahman Kottaparambu - "
   ]
  },
  {
   "cell_type": "markdown",
   "id": "bdbf0f16",
   "metadata": {},
   "source": [
    "## How to run the code (from the very early step)? ##"
   ]
  },
  {
   "cell_type": "markdown",
   "id": "2aa15485",
   "metadata": {},
   "source": [
    "Step 1: Choose and install the desired IDE which in our case is VSCode\n",
    "\n",
    "Step 2: Install the latest version of Python and Jupyter Notebook \n",
    "\n",
    "Step 3: Install the extensions needed to run a Jupyter Notebook from the \"Extensions Hub\" at VSCode, or by pressing Ctrl+Shift+X\n",
    "\n",
    "Step 4: Open an empty \"New Folder\"\n",
    "\n",
    "Step 5: Open a new .ipynb editor inside the file\n",
    "\n",
    "Step 6: Import the already downloaded CSV file from the laptop, to the file in VSCode simply by drag and drop\n",
    "\n",
    "Step 7: Start Coding\n",
    "\n",
    "P.S. All the other steps after step 7 are explained in detail down below."
   ]
  },
  {
   "cell_type": "markdown",
   "id": "95463376",
   "metadata": {},
   "source": [
    "### Field of inquiry ###\n",
    "\n",
    "--> Business and Economics\n",
    "\n",
    "### Research Question ### \n",
    "\n",
    "--> Are EVs popular?\n",
    "\n",
    "### Why is the question poorly defined? ###\n",
    "\n",
    "-->  This question is poorly defined because it is vague and lacks specific metrics. It is not asking for something in particular, but is generalizing it at the highest level.\n",
    "\n",
    "### Actual Research Question ###\n",
    "\n",
    "--> How has the market share of electric vehicles changed over time? (2010-2024)\n",
    "\n",
    "### Prompt to GenAI ###\n",
    "\n",
    "--> Help me research how the market share of electric vehicles has changed over the years 2015-2024. Provide data sources and suggest visualizations.\n",
    "\n",
    "### Why did we choose this topic? ###\n",
    "\n",
    "--> In recent years, electric vehicles, also known as EVs, have become popular since the introduction of TESLA. Nowadays, more and more companies have been developing this idea. What we are going to do now is the analysis of the change in EV market share over time for the period 2010-2024."
   ]
  },
  {
   "cell_type": "markdown",
   "id": "6f9a1dcf",
   "metadata": {},
   "source": [
    "## Step-by-Step project setup ##"
   ]
  },
  {
   "cell_type": "markdown",
   "id": "67488338",
   "metadata": {},
   "source": [
    "### 1. Import the necessary libraries ###"
   ]
  },
  {
   "cell_type": "code",
   "execution_count": 4,
   "id": "03bc208e",
   "metadata": {},
   "outputs": [],
   "source": [
    "import pandas as pd\n",
    "from tabulate import tabulate \n"
   ]
  },
  {
   "cell_type": "markdown",
   "id": "31a508a2",
   "metadata": {},
   "source": [
    "### 2. Load the dataset ### \n",
    "\n"
   ]
  },
  {
   "cell_type": "markdown",
   "id": "71cb7097",
   "metadata": {},
   "source": [
    "Dataset : Electric car sales (2010-2024)\n",
    "\n",
    "Source: https://www.kaggle.com/datasets/jainaru/electric-car-sales-2010-2024?select=IEA-EV-dataEV+salesHistoricalCars.csv\n",
    "\n",
    "Downloaded Format : CSV file"
   ]
  },
  {
   "cell_type": "code",
   "execution_count": 5,
   "id": "0a2288fc",
   "metadata": {},
   "outputs": [],
   "source": [
    "df = pd.read_csv('salesData.csv')"
   ]
  },
  {
   "cell_type": "markdown",
   "id": "e2d112f6",
   "metadata": {},
   "source": [
    "### 3. Display the dataset ###"
   ]
  },
  {
   "cell_type": "markdown",
   "id": "2381ede9",
   "metadata": {},
   "source": [
    "Since we were instructed that there was no need to implement an experiment yet, all we are going to do for now is display the dataset along with some informations about it."
   ]
  },
  {
   "cell_type": "code",
   "execution_count": 6,
   "id": "dda561d2",
   "metadata": {},
   "outputs": [
    {
     "name": "stdout",
     "output_type": "stream",
     "text": [
      "╒════╤═══════════╤════════════╤════════════════╤════════╤══════════════╤════════╤══════════╤═══════════╕\n",
      "│    │ region    │ category   │ parameter      │ mode   │ powertrain   │   year │ unit     │     value │\n",
      "╞════╪═══════════╪════════════╪════════════════╪════════╪══════════════╪════════╪══════════╪═══════════╡\n",
      "│  0 │ Australia │ Historical │ EV sales       │ Cars   │ BEV          │   2011 │ Vehicles │  49       │\n",
      "├────┼───────────┼────────────┼────────────────┼────────┼──────────────┼────────┼──────────┼───────────┤\n",
      "│  1 │ Australia │ Historical │ EV stock share │ Cars   │ EV           │   2011 │ percent  │   0.00039 │\n",
      "├────┼───────────┼────────────┼────────────────┼────────┼──────────────┼────────┼──────────┼───────────┤\n",
      "│  2 │ Australia │ Historical │ EV sales share │ Cars   │ EV           │   2011 │ percent  │   0.0065  │\n",
      "├────┼───────────┼────────────┼────────────────┼────────┼──────────────┼────────┼──────────┼───────────┤\n",
      "│  3 │ Australia │ Historical │ EV stock       │ Cars   │ BEV          │   2011 │ Vehicles │  49       │\n",
      "├────┼───────────┼────────────┼────────────────┼────────┼──────────────┼────────┼──────────┼───────────┤\n",
      "│  4 │ Australia │ Historical │ EV stock       │ Cars   │ BEV          │   2012 │ Vehicles │ 220       │\n",
      "├────┼───────────┼────────────┼────────────────┼────────┼──────────────┼────────┼──────────┼───────────┤\n",
      "│  5 │ Australia │ Historical │ EV stock       │ Cars   │ PHEV         │   2012 │ Vehicles │  80       │\n",
      "├────┼───────────┼────────────┼────────────────┼────────┼──────────────┼────────┼──────────┼───────────┤\n",
      "│  6 │ Australia │ Historical │ EV sales       │ Cars   │ PHEV         │   2012 │ Vehicles │  80       │\n",
      "├────┼───────────┼────────────┼────────────────┼────────┼──────────────┼────────┼──────────┼───────────┤\n",
      "│  7 │ Australia │ Historical │ EV sales share │ Cars   │ EV           │   2012 │ percent  │   0.03    │\n",
      "├────┼───────────┼────────────┼────────────────┼────────┼──────────────┼────────┼──────────┼───────────┤\n",
      "│  8 │ Australia │ Historical │ EV stock share │ Cars   │ EV           │   2012 │ percent  │   0.0024  │\n",
      "├────┼───────────┼────────────┼────────────────┼────────┼──────────────┼────────┼──────────┼───────────┤\n",
      "│  9 │ Australia │ Historical │ EV sales       │ Cars   │ BEV          │   2012 │ Vehicles │ 170       │\n",
      "╘════╧═══════════╧════════════╧════════════════╧════════╧══════════════╧════════╧══════════╧═══════════╛\n"
     ]
    }
   ],
   "source": [
    "  \n",
    "print(tabulate(df.head(10), headers='keys', tablefmt='fancy_grid')) "
   ]
  },
  {
   "cell_type": "markdown",
   "id": "5660fe33",
   "metadata": {},
   "source": [
    "### Will this be one-time or ongoing? ###\n",
    "\n",
    "In a real world scenario this analysis would be conducted on ongoing bases to track the latest developements in the EV world, since their number is increasing more and more day by day."
   ]
  },
  {
   "cell_type": "markdown",
   "id": "23973d08",
   "metadata": {},
   "source": [
    "### Will it be a major decision or a minor one? ###\n",
    "\n",
    "At this step this is just an anlysis not a decision, we would rather call it an informational endeavor. However, the insights that we can derive from this model, especially the anlysis of EV Marketshare, can result in major decisions for the stakeholders in the EV world. \n",
    "\n",
    "For example:\n",
    "\n",
    "Automakers --> Strategic planning for production and investments in EV technology.\n",
    "\n",
    "Energy providers --> Planning for future electricity demand and charging infrastructure.\n",
    "\n",
    "Investors --> Decisions about where to allocate capital"
   ]
  },
  {
   "cell_type": "markdown",
   "id": "20460478",
   "metadata": {},
   "source": [
    "### Will it be broadly implemented or implemented for one customer or interaction at a time? ### \n",
    "\n",
    "Our analysis of the overall EV market from 2010-2024 is a broad analysis, looking at trends across countries or regions. \n",
    "It's not focused on a single customer or interaction. \n",
    "The insights gained would be broadly applicable to understanding the overall market dynamics."
   ]
  },
  {
   "cell_type": "markdown",
   "id": "71cd1900",
   "metadata": {},
   "source": [
    "### Describe how it needs to undergo cleansing before it can be used during a Data Analysis experiment. ###\n",
    "\n",
    "a. Missing Values: The dataset contains missing values for certain countries, years, or metrics. We will need to identify the extent of missing data and decide on an appropriate strategy. \n",
    "Some of the startegies include:\n",
    "\n",
    "1. Imputation --> using the mean or median of available data \n",
    "\n",
    "2. Removal of rows/columns with excessive missing values\n",
    "\n",
    "\n",
    "b.Data Type Issues: Columns containing numerical data might be incorrectly formatted as strings, which would prevent mathematical operations.\n",
    "\n",
    "c. Duplicates: The dataset might contain duplicate entries, which could skew our analysis. We will need to identify and remove any duplicate rows.\n",
    "\n",
    "d. Outliers: The dataset contains outliers due to reporting errors, unusual market fluctuations and incorrect data entry. We will need to identify potential outliers using statistical methods or visualizations and determine whether they should be corrected or removed based on our understanding on the EV mworld.\n"
   ]
  }
 ],
 "metadata": {
  "kernelspec": {
   "display_name": "Python 3",
   "language": "python",
   "name": "python3"
  },
  "language_info": {
   "codemirror_mode": {
    "name": "ipython",
    "version": 3
   },
   "file_extension": ".py",
   "mimetype": "text/x-python",
   "name": "python",
   "nbconvert_exporter": "python",
   "pygments_lexer": "ipython3",
   "version": "3.11.0"
  }
 },
 "nbformat": 4,
 "nbformat_minor": 5
}
